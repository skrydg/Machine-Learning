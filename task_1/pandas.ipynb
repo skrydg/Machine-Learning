{
 "cells": [
  {
   "cell_type": "code",
   "execution_count": 1,
   "metadata": {
    "collapsed": true
   },
   "outputs": [],
   "source": [
    "import numpy as np\n",
    "import pandas as pd\n",
    "import math\n",
    "import copy"
   ]
  },
  {
   "cell_type": "code",
   "execution_count": 2,
   "metadata": {
    "collapsed": false
   },
   "outputs": [],
   "source": [
    "data = pd.read_csv(\"./2008.csv.bz2\", compression='bz2')"
   ]
  },
  {
   "cell_type": "code",
   "execution_count": 3,
   "metadata": {
    "collapsed": false
   },
   "outputs": [
    {
     "name": "stdout",
     "output_type": "stream",
     "text": [
      "COUNT: 54904\n",
      "REASON: weather\n"
     ]
    }
   ],
   "source": [
    "#TASK 1\n",
    "real_reason = {'A': 'carrier', 'B': 'weather', 'C': 'NAS', 'D': 'security'}\n",
    "def get_the_most_frequent(input_array):\n",
    "    buf = copy.deepcopy(input_array)\n",
    "    buf = buf[buf == buf]\n",
    "    buf = np.sort(buf)\n",
    "    \n",
    "    Y = np.concatenate((buf[1:], np.array([np.nan])))\n",
    "    lens_seg = np.cumsum(np.ones(buf.shape[0]))\n",
    "    val = buf[buf != Y]\n",
    "    lens_seg = lens_seg[buf != Y]\n",
    "    lens_seg = np.asarray(np.concatenate((lens_seg[0:1], np.diff(lens_seg))), dtype = int)\n",
    "    ind = np.argmax(lens_seg)\n",
    "    max = lens_seg[ind]\n",
    "    max_value = val[ind]\n",
    "    return (max, max_value)\n",
    "\n",
    "column_cancell = data['CancellationCode']\n",
    "(max, max_reason) = get_the_most_frequent(column_cancell)\n",
    "        \n",
    "print(\"COUNT:\", max)\n",
    "print(\"REASON:\", real_reason[max_reason])"
   ]
  },
  {
   "cell_type": "code",
   "execution_count": 4,
   "metadata": {
    "collapsed": false
   },
   "outputs": [
    {
     "name": "stdout",
     "output_type": "stream",
     "text": [
      "MIN: 11\n",
      "MEAN: 726.387029425\n",
      "MAX: 4962\n"
     ]
    }
   ],
   "source": [
    "#TASK 2\n",
    "column_distance = data['Distance']\n",
    "column_distance = column_distance[column_distance == column_distance]\n",
    "min_distance = np.min(column_distance)\n",
    "mean_distance = np.mean(column_distance)\n",
    "max_distance = np.max(column_distance)\n",
    "\n",
    "print(\"MIN:\", min_distance)\n",
    "print(\"MEAN:\", mean_distance)\n",
    "print(\"MAX:\", max_distance)"
   ]
  },
  {
   "cell_type": "code",
   "execution_count": 5,
   "metadata": {
    "collapsed": false
   },
   "outputs": [
    {
     "name": "stdout",
     "output_type": "stream",
     "text": [
      "Year          2008\n",
      "Month            5\n",
      "DayofMonth      15\n",
      "Name: 2547298, dtype: object\n",
      "4988\n",
      "\n",
      "Year          2008\n",
      "Month            8\n",
      "DayofMonth      10\n",
      "Name: 4392215, dtype: object\n",
      "5572\n",
      "\n",
      "         Year  Month  DayofMonth  DayOfWeek  DepTime  CRSDepTime  ArrTime  \\\n",
      "151629   2008      1           2          3   1005.0         945   1213.0   \n",
      "151771   2008      1           3          4   1700.0        1550   1945.0   \n",
      "152291   2008      1           3          4    955.0         938   1228.0   \n",
      "152430   2008      1           4          5   1542.0        1550   1817.0   \n",
      "152949   2008      1           4          5    938.0         938   1130.0   \n",
      "153088   2008      1           5          6   1550.0        1550   1813.0   \n",
      "153419   2008      1           5          6    938.0         938   1127.0   \n",
      "153545   2008      1           6          7   1550.0        1550   1830.0   \n",
      "153963   2008      1           6          7    938.0         938   1148.0   \n",
      "154096   2008      1           7          1   1540.0        1550   1810.0   \n",
      "154611   2008      1           7          1    928.0         938   1109.0   \n",
      "154750   2008      1           8          2   1550.0        1550   1820.0   \n",
      "155185   2008      1           8          2      NaN         938      NaN   \n",
      "155308   2008      1           9          3   1820.0        1550   2045.0   \n",
      "155823   2008      1           9          3    955.0         938   1154.0   \n",
      "155962   2008      1          10          4   1550.0        1550   1827.0   \n",
      "156485   2008      1          10          4    938.0         938   1153.0   \n",
      "156627   2008      1          11          5      NaN        1550      NaN   \n",
      "157148   2008      1          11          5    938.0         938   1135.0   \n",
      "157287   2008      1          12          6   1550.0        1550   1750.0   \n",
      "157622   2008      1          12          6    933.0         938   1121.0   \n",
      "157747   2008      1          13          7   1630.0        1550   1840.0   \n",
      "158169   2008      1          13          7    928.0         938   1142.0   \n",
      "158301   2008      1          14          1   1550.0        1550   1805.0   \n",
      "158819   2008      1          14          1      NaN         938      NaN   \n",
      "158958   2008      1          15          2   1825.0        1550   2041.0   \n",
      "159392   2008      1          15          2    945.0         938   1232.0   \n",
      "159514   2008      1          16          3   1645.0        1550   1915.0   \n",
      "160029   2008      1          16          3    938.0         938   1135.0   \n",
      "160169   2008      1          17          4   1735.0        1550   1910.0   \n",
      "...       ...    ...         ...        ...      ...         ...      ...   \n",
      "6776729  2008     12          30          2   2048.0        2025   2304.0   \n",
      "6776730  2008     12          29          1   2116.0        2025   2334.0   \n",
      "6776731  2008     12          31          3   2022.0        2025   2232.0   \n",
      "6776732  2008     12          28          7   2022.0        2025   2246.0   \n",
      "6776733  2008     12          26          5   2239.0        2025     56.0   \n",
      "6776734  2008     12          24          3   2020.0        2025   2225.0   \n",
      "6776735  2008     12           1          1   2107.0        2025   2317.0   \n",
      "6776736  2008     12           6          6   2020.0        2025   2220.0   \n",
      "6776737  2008     12           5          5   2021.0        2025   2218.0   \n",
      "6776738  2008     12          12          5   2143.0        2025   2342.0   \n",
      "6776739  2008     12           7          7   2015.0        2025   2228.0   \n",
      "6776740  2008     12          25          4   2018.0        2025   2233.0   \n",
      "6776741  2008     12           3          3   2028.0        2025   2236.0   \n",
      "6776742  2008     12           4          4   2018.0        2025   2229.0   \n",
      "6776743  2008     12          20          6   2220.0        2025     12.0   \n",
      "6776744  2008     12          22          1   2023.0        2025   2251.0   \n",
      "6776745  2008     12           8          1   2020.0        2025   2238.0   \n",
      "6776746  2008     12          16          2   2022.0        2025   2237.0   \n",
      "6776747  2008     12          19          5   2032.0        2025   2257.0   \n",
      "6776748  2008     12          11          4   2020.0        2025   2231.0   \n",
      "6776749  2008     12          13          6   2029.0        2025   2239.0   \n",
      "6776750  2008     12          15          1   2034.0        2025   2250.0   \n",
      "6776751  2008     12           9          2   2051.0        2025   2301.0   \n",
      "6776752  2008     12           2          2   2024.0        2025   2248.0   \n",
      "6776753  2008     12          21          7   2104.0        2025   2303.0   \n",
      "6776754  2008     12          23          2   2022.0        2025   2239.0   \n",
      "6776755  2008     12          14          7   2039.0        2025   2250.0   \n",
      "6776756  2008     12          17          3   2028.0        2025   2245.0   \n",
      "6776757  2008     12          10          3   2219.0        2025     37.0   \n",
      "6776758  2008     12          18          4   2025.0        2025   2230.0   \n",
      "\n",
      "         CRSArrTime UniqueCarrier  FlightNum        ...         TaxiIn  \\\n",
      "151629         1149            OH       5572        ...            8.0   \n",
      "151771         1815            OH       4988        ...           11.0   \n",
      "152291         1142            OH       5572        ...            8.0   \n",
      "152430         1815            OH       4988        ...           10.0   \n",
      "152949         1142            OH       5572        ...            9.0   \n",
      "153088         1815            OH       4988        ...            8.0   \n",
      "153419         1142            OH       5572        ...            7.0   \n",
      "153545         1815            OH       4988        ...           10.0   \n",
      "153963         1142            OH       5572        ...            8.0   \n",
      "154096         1815            OH       4988        ...           15.0   \n",
      "154611         1142            OH       5572        ...            6.0   \n",
      "154750         1815            OH       4988        ...           17.0   \n",
      "155185         1142            OH       5572        ...            NaN   \n",
      "155308         1815            OH       4988        ...            8.0   \n",
      "155823         1142            OH       5572        ...            8.0   \n",
      "155962         1815            OH       4988        ...           10.0   \n",
      "156485         1142            OH       5572        ...           13.0   \n",
      "156627         1815            OH       4988        ...            NaN   \n",
      "157148         1142            OH       5572        ...            5.0   \n",
      "157287         1815            OH       4988        ...            8.0   \n",
      "157622         1142            OH       5572        ...            6.0   \n",
      "157747         1815            OH       4988        ...           11.0   \n",
      "158169         1142            OH       5572        ...            7.0   \n",
      "158301         1815            OH       4988        ...            9.0   \n",
      "158819         1142            OH       5572        ...            NaN   \n",
      "158958         1815            OH       4988        ...            9.0   \n",
      "159392         1142            OH       5572        ...           10.0   \n",
      "159514         1815            OH       4988        ...           13.0   \n",
      "160029         1142            OH       5572        ...            5.0   \n",
      "160169         1815            OH       4988        ...           18.0   \n",
      "...             ...           ...        ...        ...            ...   \n",
      "6776729        2240            EV       4988        ...            2.0   \n",
      "6776730        2240            EV       4988        ...            4.0   \n",
      "6776731        2240            EV       4988        ...            2.0   \n",
      "6776732        2240            EV       4988        ...            5.0   \n",
      "6776733        2240            EV       4988        ...            5.0   \n",
      "6776734        2240            EV       4988        ...            5.0   \n",
      "6776735        2248            EV       4988        ...            4.0   \n",
      "6776736        2248            EV       4988        ...            3.0   \n",
      "6776737        2248            EV       4988        ...            3.0   \n",
      "6776738        2248            EV       4988        ...            2.0   \n",
      "6776739        2248            EV       4988        ...            3.0   \n",
      "6776740        2240            EV       4988        ...            5.0   \n",
      "6776741        2248            EV       4988        ...            4.0   \n",
      "6776742        2248            EV       4988        ...            4.0   \n",
      "6776743        2240            EV       4988        ...            5.0   \n",
      "6776744        2240            EV       4988        ...            8.0   \n",
      "6776745        2248            EV       4988        ...            3.0   \n",
      "6776746        2240            EV       4988        ...            4.0   \n",
      "6776747        2240            EV       4988        ...           10.0   \n",
      "6776748        2248            EV       4988        ...            4.0   \n",
      "6776749        2240            EV       4988        ...            4.0   \n",
      "6776750        2240            EV       4988        ...            4.0   \n",
      "6776751        2248            EV       4988        ...            4.0   \n",
      "6776752        2248            EV       4988        ...            4.0   \n",
      "6776753        2240            EV       4988        ...            7.0   \n",
      "6776754        2240            EV       4988        ...            7.0   \n",
      "6776755        2240            EV       4988        ...            4.0   \n",
      "6776756        2240            EV       4988        ...            4.0   \n",
      "6776757        2248            EV       4988        ...            3.0   \n",
      "6776758        2240            EV       4988        ...            4.0   \n",
      "\n",
      "         TaxiOut  Cancelled  CancellationCode  Diverted  CarrierDelay  \\\n",
      "151629      39.0          0               NaN         0           0.0   \n",
      "151771      32.0          0               NaN         0           0.0   \n",
      "152291      51.0          0               NaN         0          17.0   \n",
      "152430      10.0          0               NaN         0           NaN   \n",
      "152949      17.0          0               NaN         0           NaN   \n",
      "153088      13.0          0               NaN         0           NaN   \n",
      "153419      17.0          0               NaN         0           NaN   \n",
      "153545      19.0          0               NaN         0           0.0   \n",
      "153963      37.0          0               NaN         0           NaN   \n",
      "154096      12.0          0               NaN         0           NaN   \n",
      "154611      11.0          0               NaN         0           NaN   \n",
      "154750      17.0          0               NaN         0           NaN   \n",
      "155185       NaN          1                 B         0           NaN   \n",
      "155308      13.0          0               NaN         0           0.0   \n",
      "155823      21.0          0               NaN         0           NaN   \n",
      "155962      21.0          0               NaN         0           NaN   \n",
      "156485      33.0          0               NaN         0           NaN   \n",
      "156627       NaN          1                 B         0           NaN   \n",
      "157148      27.0          0               NaN         0           NaN   \n",
      "157287       9.0          0               NaN         0           NaN   \n",
      "157622      27.0          0               NaN         0           NaN   \n",
      "157747      14.0          0               NaN         0           0.0   \n",
      "158169      46.0          0               NaN         0           NaN   \n",
      "158301       8.0          0               NaN         0           NaN   \n",
      "158819       NaN          1                 B         0           NaN   \n",
      "158958      13.0          0               NaN         0           0.0   \n",
      "159392      82.0          0               NaN         0           0.0   \n",
      "159514      22.0          0               NaN         0          55.0   \n",
      "160029      32.0          0               NaN         0           NaN   \n",
      "160169      20.0          0               NaN         0          55.0   \n",
      "...          ...        ...               ...       ...           ...   \n",
      "6776729     25.0          0               NaN         0           0.0   \n",
      "6776730     23.0          0               NaN         0          49.0   \n",
      "6776731     12.0          0               NaN         0           NaN   \n",
      "6776732     34.0          0               NaN         0           NaN   \n",
      "6776733     17.0          0               NaN         0           0.0   \n",
      "6776734     15.0          0               NaN         0           NaN   \n",
      "6776735     27.0          0               NaN         0           0.0   \n",
      "6776736     12.0          0               NaN         0           NaN   \n",
      "6776737     13.0          0               NaN         0           NaN   \n",
      "6776738     12.0          0               NaN         0           0.0   \n",
      "6776739     17.0          0               NaN         0           NaN   \n",
      "6776740     16.0          0               NaN         0           NaN   \n",
      "6776741     20.0          0               NaN         0           NaN   \n",
      "6776742     22.0          0               NaN         0           NaN   \n",
      "6776743     10.0          0               NaN         0           4.0   \n",
      "6776744     29.0          0               NaN         0           NaN   \n",
      "6776745     27.0          0               NaN         0           NaN   \n",
      "6776746     22.0          0               NaN         0           NaN   \n",
      "6776747     28.0          0               NaN         0           0.0   \n",
      "6776748     22.0          0               NaN         0           NaN   \n",
      "6776749     18.0          0               NaN         0           NaN   \n",
      "6776750     22.0          0               NaN         0           NaN   \n",
      "6776751     17.0          0               NaN         0           NaN   \n",
      "6776752     23.0          0               NaN         0           NaN   \n",
      "6776753     12.0          0               NaN         0          10.0   \n",
      "6776754     24.0          0               NaN         0           NaN   \n",
      "6776755     18.0          0               NaN         0           NaN   \n",
      "6776756     26.0          0               NaN         0           NaN   \n",
      "6776757     34.0          0               NaN         0           0.0   \n",
      "6776758     15.0          0               NaN         0           NaN   \n",
      "\n",
      "        WeatherDelay NASDelay  SecurityDelay  LateAircraftDelay  \n",
      "151629          20.0      4.0            0.0                0.0  \n",
      "151771           0.0     20.0            0.0               70.0  \n",
      "152291           0.0     29.0            0.0                0.0  \n",
      "152430           NaN      NaN            NaN                NaN  \n",
      "152949           NaN      NaN            NaN                NaN  \n",
      "153088           NaN      NaN            NaN                NaN  \n",
      "153419           NaN      NaN            NaN                NaN  \n",
      "153545           0.0     15.0            0.0                0.0  \n",
      "153963           NaN      NaN            NaN                NaN  \n",
      "154096           NaN      NaN            NaN                NaN  \n",
      "154611           NaN      NaN            NaN                NaN  \n",
      "154750           NaN      NaN            NaN                NaN  \n",
      "155185           NaN      NaN            NaN                NaN  \n",
      "155308           0.0    150.0            0.0                0.0  \n",
      "155823           NaN      NaN            NaN                NaN  \n",
      "155962           NaN      NaN            NaN                NaN  \n",
      "156485           NaN      NaN            NaN                NaN  \n",
      "156627           NaN      NaN            NaN                NaN  \n",
      "157148           NaN      NaN            NaN                NaN  \n",
      "157287           NaN      NaN            NaN                NaN  \n",
      "157622           NaN      NaN            NaN                NaN  \n",
      "157747          25.0      0.0            0.0                0.0  \n",
      "158169           NaN      NaN            NaN                NaN  \n",
      "158301           NaN      NaN            NaN                NaN  \n",
      "158819           NaN      NaN            NaN                NaN  \n",
      "158958           0.0      0.0            0.0              146.0  \n",
      "159392           7.0     43.0            0.0                0.0  \n",
      "159514           0.0      5.0            0.0                0.0  \n",
      "160029           NaN      NaN            NaN                NaN  \n",
      "160169           0.0      0.0            0.0                0.0  \n",
      "...              ...      ...            ...                ...  \n",
      "6776729          0.0      1.0            0.0               23.0  \n",
      "6776730          0.0      3.0            0.0                2.0  \n",
      "6776731          NaN      NaN            NaN                NaN  \n",
      "6776732          NaN      NaN            NaN                NaN  \n",
      "6776733          0.0      2.0            0.0              134.0  \n",
      "6776734          NaN      NaN            NaN                NaN  \n",
      "6776735          0.0      0.0            0.0               29.0  \n",
      "6776736          NaN      NaN            NaN                NaN  \n",
      "6776737          NaN      NaN            NaN                NaN  \n",
      "6776738          0.0      0.0            0.0               54.0  \n",
      "6776739          NaN      NaN            NaN                NaN  \n",
      "6776740          NaN      NaN            NaN                NaN  \n",
      "6776741          NaN      NaN            NaN                NaN  \n",
      "6776742          NaN      NaN            NaN                NaN  \n",
      "6776743          9.0      0.0            0.0               79.0  \n",
      "6776744          NaN      NaN            NaN                NaN  \n",
      "6776745          NaN      NaN            NaN                NaN  \n",
      "6776746          NaN      NaN            NaN                NaN  \n",
      "6776747          0.0     10.0            0.0                7.0  \n",
      "6776748          NaN      NaN            NaN                NaN  \n",
      "6776749          NaN      NaN            NaN                NaN  \n",
      "6776750          NaN      NaN            NaN                NaN  \n",
      "6776751          NaN      NaN            NaN                NaN  \n",
      "6776752          NaN      NaN            NaN                NaN  \n",
      "6776753          0.0      0.0            0.0               13.0  \n",
      "6776754          NaN      NaN            NaN                NaN  \n",
      "6776755          NaN      NaN            NaN                NaN  \n",
      "6776756          NaN      NaN            NaN                NaN  \n",
      "6776757          0.0      0.0            0.0              109.0  \n",
      "6776758          NaN      NaN            NaN                NaN  \n",
      "\n",
      "[1051 rows x 29 columns]\n"
     ]
    }
   ],
   "source": [
    "#TASK 3\n",
    "fly_with_min_dist = data[data['Distance'] == min_distance]\n",
    "\n",
    "idn_flight = []\n",
    "for i in range(fly_with_min_dist.shape[0]):\n",
    "    print(fly_with_min_dist.iloc[i][0:3])\n",
    "    print(fly_with_min_dist.iloc[i]['FlightNum'])\n",
    "    idn_flight.append(fly_with_min_dist.iloc[i]['FlightNum'])\n",
    "    print()\n",
    "\n",
    "#print(name_plane)\n",
    "\n",
    "print(data[(data['FlightNum'] == idn_flight[0]) | (data['FlightNum'] == idn_flight[1])])"
   ]
  },
  {
   "cell_type": "code",
   "execution_count": 6,
   "metadata": {
    "collapsed": false
   },
   "outputs": [],
   "source": [
    "\n",
    "airports = pd.read_csv(\"./airports.csv\")"
   ]
  },
  {
   "cell_type": "code",
   "execution_count": 7,
   "metadata": {
    "collapsed": false
   },
   "outputs": [
    {
     "name": "stdout",
     "output_type": "stream",
     "text": [
      "880    William B Hartsfield-Atlanta Intl\n",
      "Name: airport, dtype: object\n",
      "880    USA\n",
      "Name: country, dtype: object\n"
     ]
    }
   ],
   "source": [
    "#TASK 4\n",
    "origin = data['Origin']\n",
    "(cnt, idn) = get_the_most_frequent(origin)\n",
    "print(airports[airports['iata'] == idn]['airport'])\n",
    "print(airports[airports['iata'] == idn]['country'])"
   ]
  },
  {
   "cell_type": "code",
   "execution_count": 9,
   "metadata": {
    "collapsed": true
   },
   "outputs": [],
   "source": [
    "data_with_origin_airports = pd.merge(data, airports, left_on = 'Origin', right_on='iata')"
   ]
  },
  {
   "cell_type": "code",
   "execution_count": 11,
   "metadata": {
    "collapsed": false
   },
   "outputs": [
    {
     "name": "stdout",
     "output_type": "stream",
     "text": [
      "Luis Munoz Marin International\n",
      "203.850842697\n",
      "\n",
      "airport\n",
      "Abilene Regional                       36.789977\n",
      "Adak                                  151.423913\n",
      "Adams                                  69.992002\n",
      "Akron-Canton Regional                  85.922268\n",
      "Albany Cty                            101.860527\n",
      "Albert J Ellis                         70.376623\n",
      "Albuquerque International              91.657166\n",
      "Alexandria International               68.543556\n",
      "Amarillo International                 56.196001\n",
      "Arcata                                 58.850658\n",
      "Asheville Regional                     69.899021\n",
      "Aspen-Pitkin Co/Sardy                  48.307996\n",
      "Atlantic City International           108.848214\n",
      "Austin Straubel International          42.248180\n",
      "Austin-Bergstrom International        101.266600\n",
      "Baltimore-Washington International    106.413995\n",
      "Bangor International                   90.211095\n",
      "Baton Rouge Metropolitan, Ryan         64.118064\n",
      "Bellingham Intl                       100.697479\n",
      "Bemidji-Beltrami County                37.000000\n",
      "Bert Mooney                            56.310145\n",
      "Bethel                                 57.597815\n",
      "Billings Logan Intl                    71.973064\n",
      "Binghamton Regional                    66.582260\n",
      "Birmingham International               82.290713\n",
      "Bishop                                 78.874751\n",
      "Bismarck Municipal                     70.589413\n",
      "Blue Grass                             67.039765\n",
      "Boise Air Terminal                     80.438548\n",
      "Bradley International                 118.701612\n",
      "                                         ...    \n",
      "Tri-Cities Regional                    47.871046\n",
      "Tri-State/Walker-Long                  34.722581\n",
      "Tucson International                   92.801864\n",
      "Tulsa International                    80.876802\n",
      "Tupelo Municipal                       42.900000\n",
      "Tyler Pounds                           30.372715\n",
      "University Park                        64.419773\n",
      "University of Illinois-Willard         43.833460\n",
      "Valdosta Regional                      45.158351\n",
      "Valley International                   46.148633\n",
      "Waco Regional                          29.875977\n",
      "Walker                                 62.907385\n",
      "Washington Dulles International       135.594889\n",
      "Waterloo Municipal                     36.373134\n",
      "Westchester Cty                       128.567018\n",
      "Wichita Mid-Continent                  86.317897\n",
      "Wiley Post Will Rogers Memorial        85.774330\n",
      "Wilkes-Barre/Scranton Intl             94.665204\n",
      "Will Rogers World                      84.798502\n",
      "William B Hartsfield-Atlanta Intl      93.320419\n",
      "William P Hobby                        83.065444\n",
      "Wilmington International               59.819028\n",
      "Wrangell                               16.741606\n",
      "Yakima Air Terminal                    80.697329\n",
      "Yakutat                                36.372159\n",
      "Yampa Valley                           62.133275\n",
      "Yeager                                 76.973446\n",
      "Yellowstone                            62.961977\n",
      "Yellowstone Regional                   67.763450\n",
      "Yuma MCAS-Yuma International           48.876952\n",
      "Name: AirTime, dtype: float64\n"
     ]
    }
   ],
   "source": [
    "#TASK 5\n",
    "stat_by_airports = data_with_origin_airports.groupby(by='airport').mean()\n",
    "print(np.argmax(stat_by_airports['AirTime']))\n",
    "print(np.max(stat_by_airports['AirTime']))\n",
    "print()\n",
    "print(stat_by_airports['AirTime'])"
   ]
  },
  {
   "cell_type": "code",
   "execution_count": 12,
   "metadata": {
    "collapsed": false
   },
   "outputs": [],
   "source": [
    "#TASK 6\n",
    "data_with_origin_airports['count'] = 1\n",
    "stat_by_airports = data_with_origin_airports.groupby(by='airport').agg({'DepDelay': (lambda x: x[x > 0].shape[0]),\n",
    "                                                                      'count': np.sum})"
   ]
  },
  {
   "cell_type": "code",
   "execution_count": 13,
   "metadata": {
    "collapsed": false
   },
   "outputs": [
    {
     "name": "stdout",
     "output_type": "stream",
     "text": [
      "Dallas Love \n"
     ]
    }
   ],
   "source": [
    "filter_stat = stat_by_airports[stat_by_airports['count'] >= 1000]\n",
    "print(np.argmax(filter_stat['DepDelay'] / filter_stat['count']))"
   ]
  },
  {
   "cell_type": "code",
   "execution_count": null,
   "metadata": {
    "collapsed": true
   },
   "outputs": [],
   "source": []
  }
 ],
 "metadata": {
  "anaconda-cloud": {},
  "kernelspec": {
   "display_name": "Python [default]",
   "language": "python",
   "name": "python3"
  },
  "language_info": {
   "codemirror_mode": {
    "name": "ipython",
    "version": 3
   },
   "file_extension": ".py",
   "mimetype": "text/x-python",
   "name": "python",
   "nbconvert_exporter": "python",
   "pygments_lexer": "ipython3",
   "version": "3.5.2"
  }
 },
 "nbformat": 4,
 "nbformat_minor": 1
}
