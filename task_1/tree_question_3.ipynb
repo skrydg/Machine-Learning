{
 "cells": [
  {
   "cell_type": "code",
   "execution_count": 84,
   "metadata": {
    "collapsed": true
   },
   "outputs": [],
   "source": [
    "import pandas as pd\n",
    "import numpy as np\n",
    "import copy\n",
    "from sklearn.neighbors import KNeighborsClassifier, DistanceMetric\n",
    "import sklearn\n",
    "import matplotlib.pyplot as plt\n",
    "from sklearn.tree import DecisionTreeClassifier\n",
    "from sklearn.ensemble import RandomForestClassifier"
   ]
  },
  {
   "cell_type": "code",
   "execution_count": 85,
   "metadata": {
    "collapsed": true
   },
   "outputs": [],
   "source": [
    "data = pd.read_csv('amazon.csv')\n",
    "from sklearn.cross_validation import train_test_split\n",
    "X_train, X_test, y_train, y_test = train_test_split(data.iloc[:, 1:], data.iloc[:, 0],\n",
    "                                                    test_size=0.3, random_state=241)"
   ]
  },
  {
   "cell_type": "code",
   "execution_count": 86,
   "metadata": {
    "collapsed": false
   },
   "outputs": [
    {
     "name": "stdout",
     "output_type": "stream",
     "text": [
      "312153\n"
     ]
    }
   ],
   "source": [
    "# число значений у признаков\n",
    "max_value = 0\n",
    "for col_name in data.columns:\n",
    "    max_value = max(max_value, np.max(data[col_name]))\n",
    "print(max_value)"
   ]
  },
  {
   "cell_type": "code",
   "execution_count": 87,
   "metadata": {
    "collapsed": true
   },
   "outputs": [],
   "source": [
    "def get_pair_features(X):\n",
    "    print(\"Begin\")\n",
    "    X_new = np.ndarray((X.shape[0], X.shape[1] * (X.shape[1] + 1) // 2))\n",
    "    X_new[:, 0:X.shape[1]] = copy.deepcopy(X.iloc[:])\n",
    "    print(\"End copy\")\n",
    "    len = X.shape[1]\n",
    "    for i in range(X.shape[1]):\n",
    "        print(\"Processing\", i, \"features\")\n",
    "        for j in range(i + 1, X.shape[1]):\n",
    "            X_new[:, len] = X.iloc[:, i] * 1000 * 1000 * 1000 + X.iloc[:, j] \n",
    "            len += 1\n",
    "    return X_new"
   ]
  },
  {
   "cell_type": "code",
   "execution_count": 88,
   "metadata": {
    "collapsed": false
   },
   "outputs": [
    {
     "name": "stdout",
     "output_type": "stream",
     "text": [
      "Begin\n",
      "End copy\n",
      "Processing 0 features\n",
      "Processing 1 features\n",
      "Processing 2 features\n",
      "Processing 3 features\n",
      "Processing 4 features\n",
      "Processing 5 features\n",
      "Processing 6 features\n",
      "Processing 7 features\n",
      "Processing 8 features\n",
      "Begin\n",
      "End copy\n",
      "Processing 0 features\n",
      "Processing 1 features\n",
      "Processing 2 features\n",
      "Processing 3 features\n",
      "Processing 4 features\n",
      "Processing 5 features\n",
      "Processing 6 features\n",
      "Processing 7 features\n",
      "Processing 8 features\n"
     ]
    }
   ],
   "source": [
    "X_train_with_pair_features = get_pair_features(X_train)\n",
    "X_test_with_pair_features = get_pair_features(X_test)"
   ]
  },
  {
   "cell_type": "code",
   "execution_count": 89,
   "metadata": {
    "collapsed": true
   },
   "outputs": [],
   "source": [
    "def unique_with_count(input_array): # (value, count)\n",
    "    buf = copy.deepcopy(input_array)\n",
    "    buf = buf[buf == buf]\n",
    "    buf = np.sort(buf)\n",
    "    \n",
    "    Y = np.concatenate((buf[1:], np.array([np.nan])))\n",
    "    lens_seg = np.cumsum(np.ones(buf.shape[0]))\n",
    "    val = buf[buf != Y]\n",
    "    lens_seg = lens_seg[buf != Y]\n",
    "    lens_seg = np.asarray(np.concatenate((lens_seg[0:1], np.diff(lens_seg))), dtype = int)\n",
    "    return (val, lens_seg)"
   ]
  },
  {
   "cell_type": "code",
   "execution_count": 90,
   "metadata": {
    "collapsed": true
   },
   "outputs": [],
   "source": [
    "def display_auc(y_true, y_predict):\n",
    "    print(\"AUC:\", sklearn.metrics.roc_auc_score(y_score=y_predict, y_true=y_true))\n",
    "    (fpr, tpr, thresholds) = sklearn.metrics.roc_curve(y_true=y_true, y_score=y_predict)\n",
    "    plt.plot(fpr, tpr)\n",
    "    plt.show()\n",
    "\n",
    "def get_auc(y_true, y_predict):\n",
    "    return sklearn.metrics.roc_auc_score(y_score=y_predict, y_true=y_true)"
   ]
  },
  {
   "cell_type": "code",
   "execution_count": 91,
   "metadata": {
    "collapsed": true
   },
   "outputs": [],
   "source": [
    "def unique_with_count(input_array): # (value, count)\n",
    "    buf = copy.deepcopy(input_array)\n",
    "    buf = buf[buf == buf]\n",
    "    buf = np.sort(buf)\n",
    "    \n",
    "    Y = np.concatenate((buf[1:], np.array([np.nan])))\n",
    "    lens_seg = np.cumsum(np.ones(buf.shape[0]))\n",
    "    val = buf[buf != Y]\n",
    "    lens_seg = lens_seg[buf != Y]\n",
    "    lens_seg = np.asarray(np.concatenate((lens_seg[0:1], np.diff(lens_seg))), dtype = int)\n",
    "    return (val, lens_seg)"
   ]
  },
  {
   "cell_type": "code",
   "execution_count": 115,
   "metadata": {
    "collapsed": true
   },
   "outputs": [],
   "source": [
    "def get_new_features(X, count, successed):\n",
    "    cnt = 0\n",
    "    new_X = np.ndarray((X.shape[0], 3 * X.shape[1]))\n",
    "    for i in range(X.shape[0]):\n",
    "        for j in range(X.shape[1]):\n",
    "            new_X[i, 3 * j] = count[j].get(X[i, j], 0)\n",
    "            new_X[i, 3 * j + 1] = successed[j].get(X[i, j], 0)\n",
    "            new_X[i, 3 * j + 2] =  round((new_X[i, 3 * j + 1] + 1) / (new_X[i, 3 * j] + 2), 4)\n",
    "            cnt += new_X[i, 3 * j] == 0;\n",
    "    print(cnt)\n",
    "    return new_X\n",
    "\n",
    "def get_count_and_successed(X_train, y_train):\n",
    "    count = [{} for i in range(X_train.shape[1])]\n",
    "    successed = [{} for i in range(X_train.shape[1])]\n",
    "    for col in range(X_train.shape[1]):\n",
    "        value, len = unique_with_count(X_train[:, col])\n",
    "        \n",
    "        count[col] = {cur_value: 0 for cur_value in value}\n",
    "        successed[col] = {cur_value: 0 for cur_value in value}\n",
    "        for ind in range(X_train.shape[0]):\n",
    "            count[col][X_train[ind, col]] += 1\n",
    "            successed[col][X_train[ind, col]] += (y_train[ind] == 1)\n",
    "        \n",
    "        for cur_value in value:\n",
    "            count[col][cur_value] /= y_train.shape[0]\n",
    "            successed[col][cur_value] /= y_train.shape[0]\n",
    "            successed[col][cur_value] = successed[col][cur_value]\n",
    "    return (count, successed)"
   ]
  },
  {
   "cell_type": "code",
   "execution_count": 116,
   "metadata": {
    "collapsed": true
   },
   "outputs": [],
   "source": [
    "def get_new_features_with_fold(X, y, CNT_FOLDS = 3):\n",
    "    new_X = np.ndarray((X.shape[0], 3 * X.shape[1]))\n",
    "    for i in range(CNT_FOLDS):\n",
    "        ind = np.ndarray(((X.shape[0] + CNT_FOLDS - 1 - i) // CNT_FOLDS), dtype=int)\n",
    "        other_ind = np.ndarray(X.shape[0] - ind.shape[0], dtype=int)\n",
    "        cnt = 0\n",
    "        cnt_other = 0\n",
    "        for j in range(X.shape[0]):\n",
    "            if (j % CNT_FOLDS == i):\n",
    "                ind[cnt] = j\n",
    "                cnt += 1\n",
    "            else:\n",
    "                other_ind[cnt_other] = j\n",
    "                cnt_other += 1\n",
    "\n",
    "        count, successed = get_count_and_successed(X[other_ind, :], y[other_ind])\n",
    "        X_chunk_new = get_new_features(X[ind, :], count, successed)\n",
    "        new_X[ind, :] = X_chunk_new\n",
    "    return new_X\n"
   ]
  },
  {
   "cell_type": "code",
   "execution_count": 117,
   "metadata": {
    "collapsed": false
   },
   "outputs": [
    {
     "name": "stdout",
     "output_type": "stream",
     "text": [
      "45652\n",
      "45588\n",
      "46022\n",
      "47673\n"
     ]
    }
   ],
   "source": [
    "CNT_FOLDS = 3\n",
    "new_X_train_with_pair_features = get_new_features_with_fold(X_train_with_pair_features, np.array(y_train, dtype=int), CNT_FOLDS)\n",
    "count, successed = get_count_and_successed(X_train_with_pair_features, np.array(y_train, dtype=int))\n",
    "new_X_test_with_pair_features = get_new_features(X_test_with_pair_features, count, successed)"
   ]
  },
  {
   "cell_type": "code",
   "execution_count": 118,
   "metadata": {
    "collapsed": false
   },
   "outputs": [
    {
     "name": "stdout",
     "output_type": "stream",
     "text": [
      "AUC: 0.847844202625\n"
     ]
    },
    {
     "data": {
      "image/png": "[encoded data removed]",
      "text/plain": [
       "<matplotlib.figure.Figure at 0x110e54dd8>"
      ]
     },
     "metadata": {},
     "output_type": "display_data"
    }
   ],
   "source": [
    "classifier = sklearn.ensemble.RandomForestClassifier(n_estimators=1000, max_depth=20, min_samples_leaf=15)\n",
    "classifier.fit(new_X_train_with_pair_features, y_train)\n",
    "y = classifier.predict_proba(new_X_test_with_pair_features)\n",
    "y = y[:, 1]\n",
    "display_auc(y_true=y_test, y_predict=y)"
   ]
  },
  {
   "cell_type": "code",
   "execution_count": null,
   "metadata": {
    "collapsed": true
   },
   "outputs": [],
   "source": []
  }
 ],
 "metadata": {
  "anaconda-cloud": {},
  "kernelspec": {
   "display_name": "Python [default]",
   "language": "python",
   "name": "python3"
  },
  "language_info": {
   "codemirror_mode": {
    "name": "ipython",
    "version": 3
   },
   "file_extension": ".py",
   "mimetype": "text/x-python",
   "name": "python",
   "nbconvert_exporter": "python",
   "pygments_lexer": "ipython3",
   "version": "3.5.2"
  }
 },
 "nbformat": 4,
 "nbformat_minor": 1
}
