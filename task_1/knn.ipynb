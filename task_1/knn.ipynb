{
 "cells": [
  {
   "cell_type": "code",
   "execution_count": 57,
   "metadata": {
    "collapsed": true
   },
   "outputs": [],
   "source": [
    "import pandas as pd\n",
    "import numpy as np\n",
    "import copy\n",
    "from sklearn.neighbors import KNeighborsClassifier, DistanceMetric\n",
    "import sklearn\n",
    "import matplotlib.pyplot as plt"
   ]
  },
  {
   "cell_type": "code",
   "execution_count": 58,
   "metadata": {
    "collapsed": false
   },
   "outputs": [
    {
     "data": {
      "text/html": [
       "<div>\n",
       "<table border=\"1\" class=\"dataframe\">\n",
       "  <thead>\n",
       "    <tr style=\"text-align: right;\">\n",
       "      <th></th>\n",
       "      <th>ACTION</th>\n",
       "      <th>RESOURCE</th>\n",
       "      <th>MGR_ID</th>\n",
       "      <th>ROLE_ROLLUP_1</th>\n",
       "      <th>ROLE_ROLLUP_2</th>\n",
       "      <th>ROLE_DEPTNAME</th>\n",
       "      <th>ROLE_TITLE</th>\n",
       "      <th>ROLE_FAMILY_DESC</th>\n",
       "      <th>ROLE_FAMILY</th>\n",
       "      <th>ROLE_CODE</th>\n",
       "    </tr>\n",
       "  </thead>\n",
       "  <tbody>\n",
       "    <tr>\n",
       "      <th>0</th>\n",
       "      <td>1</td>\n",
       "      <td>39353</td>\n",
       "      <td>85475</td>\n",
       "      <td>117961</td>\n",
       "      <td>118300</td>\n",
       "      <td>123472</td>\n",
       "      <td>117905</td>\n",
       "      <td>117906</td>\n",
       "      <td>290919</td>\n",
       "      <td>117908</td>\n",
       "    </tr>\n",
       "    <tr>\n",
       "      <th>1</th>\n",
       "      <td>1</td>\n",
       "      <td>17183</td>\n",
       "      <td>1540</td>\n",
       "      <td>117961</td>\n",
       "      <td>118343</td>\n",
       "      <td>123125</td>\n",
       "      <td>118536</td>\n",
       "      <td>118536</td>\n",
       "      <td>308574</td>\n",
       "      <td>118539</td>\n",
       "    </tr>\n",
       "    <tr>\n",
       "      <th>2</th>\n",
       "      <td>1</td>\n",
       "      <td>36724</td>\n",
       "      <td>14457</td>\n",
       "      <td>118219</td>\n",
       "      <td>118220</td>\n",
       "      <td>117884</td>\n",
       "      <td>117879</td>\n",
       "      <td>267952</td>\n",
       "      <td>19721</td>\n",
       "      <td>117880</td>\n",
       "    </tr>\n",
       "    <tr>\n",
       "      <th>3</th>\n",
       "      <td>1</td>\n",
       "      <td>36135</td>\n",
       "      <td>5396</td>\n",
       "      <td>117961</td>\n",
       "      <td>118343</td>\n",
       "      <td>119993</td>\n",
       "      <td>118321</td>\n",
       "      <td>240983</td>\n",
       "      <td>290919</td>\n",
       "      <td>118322</td>\n",
       "    </tr>\n",
       "    <tr>\n",
       "      <th>4</th>\n",
       "      <td>1</td>\n",
       "      <td>42680</td>\n",
       "      <td>5905</td>\n",
       "      <td>117929</td>\n",
       "      <td>117930</td>\n",
       "      <td>119569</td>\n",
       "      <td>119323</td>\n",
       "      <td>123932</td>\n",
       "      <td>19793</td>\n",
       "      <td>119325</td>\n",
       "    </tr>\n",
       "  </tbody>\n",
       "</table>\n",
       "</div>"
      ],
      "text/plain": [
       "   ACTION  RESOURCE  MGR_ID  ROLE_ROLLUP_1  ROLE_ROLLUP_2  ROLE_DEPTNAME  \\\n",
       "0       1     39353   85475         117961         118300         123472   \n",
       "1       1     17183    1540         117961         118343         123125   \n",
       "2       1     36724   14457         118219         118220         117884   \n",
       "3       1     36135    5396         117961         118343         119993   \n",
       "4       1     42680    5905         117929         117930         119569   \n",
       "\n",
       "   ROLE_TITLE  ROLE_FAMILY_DESC  ROLE_FAMILY  ROLE_CODE  \n",
       "0      117905            117906       290919     117908  \n",
       "1      118536            118536       308574     118539  \n",
       "2      117879            267952        19721     117880  \n",
       "3      118321            240983       290919     118322  \n",
       "4      119323            123932        19793     119325  "
      ]
     },
     "execution_count": 58,
     "metadata": {},
     "output_type": "execute_result"
    }
   ],
   "source": [
    "data = pd.read_csv('amazon.csv')\n",
    "data.head()"
   ]
  },
  {
   "cell_type": "code",
   "execution_count": 59,
   "metadata": {
    "collapsed": false
   },
   "outputs": [
    {
     "name": "stdout",
     "output_type": "stream",
     "text": [
      "312153\n"
     ]
    }
   ],
   "source": [
    "# число значений у признаков\n",
    "max_value = 0\n",
    "for col_name in data.columns:\n",
    "    max_value = max(max_value, np.max(data[col_name]))\n",
    "print(max_value)"
   ]
  },
  {
   "cell_type": "code",
   "execution_count": 60,
   "metadata": {
    "collapsed": false
   },
   "outputs": [],
   "source": [
    "from sklearn.cross_validation import train_test_split\n",
    "X_train, X_test, y_train, y_test = train_test_split(data.iloc[:, 1:], data.iloc[:, 0],\n",
    "                                                    test_size=0.3, random_state=241)"
   ]
  },
  {
   "cell_type": "code",
   "execution_count": 61,
   "metadata": {
    "collapsed": true
   },
   "outputs": [],
   "source": [
    "def display_auc(y_true, y_predict):\n",
    "    print(\"AUC:\", sklearn.metrics.roc_auc_score(y_score=y_predict, y_true=y_true))\n",
    "    (fpr, tpr, thresholds) = sklearn.metrics.roc_curve(y_true=y_true, y_score=y_predict)\n",
    "    plt.plot(fpr, tpr)\n",
    "    plt.show()\n",
    "\n",
    "def get_auc(y_true, y_predict):\n",
    "    return sklearn.metrics.roc_auc_score(y_score=y_predict, y_true=y_true)"
   ]
  },
  {
   "cell_type": "code",
   "execution_count": 63,
   "metadata": {
    "collapsed": true
   },
   "outputs": [],
   "source": [
    "def indicator(x, y, **kwargs):\n",
    "    return (np.sum(x != y))"
   ]
  },
  {
   "cell_type": "code",
   "execution_count": 62,
   "metadata": {
    "collapsed": false,
    "scrolled": true
   },
   "outputs": [
    {
     "ename": "KeyboardInterrupt",
     "evalue": "",
     "output_type": "error",
     "traceback": [
      "\u001b[0;31m---------------------------------------------------------------------------\u001b[0m",
      "\u001b[0;31mKeyboardInterrupt\u001b[0m                         Traceback (most recent call last)",
      "\u001b[0;32m<ipython-input-62-aee7168629f0>\u001b[0m in \u001b[0;36m<module>\u001b[0;34m()\u001b[0m\n\u001b[1;32m      5\u001b[0m \u001b[0mneigh_with_indicator\u001b[0m \u001b[0;34m=\u001b[0m \u001b[0msklearn\u001b[0m\u001b[0;34m.\u001b[0m\u001b[0mneighbors\u001b[0m\u001b[0;34m.\u001b[0m\u001b[0mKNeighborsClassifier\u001b[0m\u001b[0;34m(\u001b[0m\u001b[0mn_neighbors\u001b[0m\u001b[0;34m=\u001b[0m\u001b[0;36m10\u001b[0m\u001b[0;34m,\u001b[0m \u001b[0malgorithm\u001b[0m\u001b[0;34m=\u001b[0m\u001b[0;34m'brute'\u001b[0m\u001b[0;34m,\u001b[0m \u001b[0mmetric\u001b[0m\u001b[0;34m=\u001b[0m\u001b[0mindicator\u001b[0m\u001b[0;34m)\u001b[0m\u001b[0;34m\u001b[0m\u001b[0m\n\u001b[1;32m      6\u001b[0m \u001b[0mneigh_with_indicator\u001b[0m\u001b[0;34m.\u001b[0m\u001b[0mfit\u001b[0m\u001b[0;34m(\u001b[0m\u001b[0mX_train\u001b[0m\u001b[0;34m,\u001b[0m \u001b[0my_train\u001b[0m\u001b[0;34m)\u001b[0m\u001b[0;34m\u001b[0m\u001b[0m\n\u001b[0;32m----> 7\u001b[0;31m \u001b[0my_with_indicator\u001b[0m \u001b[0;34m=\u001b[0m \u001b[0mneigh_with_indicator\u001b[0m\u001b[0;34m.\u001b[0m\u001b[0mpredict_proba\u001b[0m\u001b[0;34m(\u001b[0m\u001b[0mX_test\u001b[0m\u001b[0;34m)\u001b[0m\u001b[0;34m\u001b[0m\u001b[0m\n\u001b[0m\u001b[1;32m      8\u001b[0m \u001b[0;34m\u001b[0m\u001b[0m\n\u001b[1;32m      9\u001b[0m \u001b[0my_with_indicator\u001b[0m \u001b[0;34m=\u001b[0m \u001b[0my_with_indicator\u001b[0m\u001b[0;34m[\u001b[0m\u001b[0;34m:\u001b[0m\u001b[0;34m,\u001b[0m \u001b[0;36m1\u001b[0m\u001b[0;34m]\u001b[0m\u001b[0;34m\u001b[0m\u001b[0m\n",
      "\u001b[0;32m/usr/local/lib/python3.5/site-packages/sklearn/neighbors/classification.py\u001b[0m in \u001b[0;36mpredict_proba\u001b[0;34m(self, X)\u001b[0m\n\u001b[1;32m    188\u001b[0m         \u001b[0mX\u001b[0m \u001b[0;34m=\u001b[0m \u001b[0mcheck_array\u001b[0m\u001b[0;34m(\u001b[0m\u001b[0mX\u001b[0m\u001b[0;34m,\u001b[0m \u001b[0maccept_sparse\u001b[0m\u001b[0;34m=\u001b[0m\u001b[0;34m'csr'\u001b[0m\u001b[0;34m)\u001b[0m\u001b[0;34m\u001b[0m\u001b[0m\n\u001b[1;32m    189\u001b[0m \u001b[0;34m\u001b[0m\u001b[0m\n\u001b[0;32m--> 190\u001b[0;31m         \u001b[0mneigh_dist\u001b[0m\u001b[0;34m,\u001b[0m \u001b[0mneigh_ind\u001b[0m \u001b[0;34m=\u001b[0m \u001b[0mself\u001b[0m\u001b[0;34m.\u001b[0m\u001b[0mkneighbors\u001b[0m\u001b[0;34m(\u001b[0m\u001b[0mX\u001b[0m\u001b[0;34m)\u001b[0m\u001b[0;34m\u001b[0m\u001b[0m\n\u001b[0m\u001b[1;32m    191\u001b[0m \u001b[0;34m\u001b[0m\u001b[0m\n\u001b[1;32m    192\u001b[0m         \u001b[0mclasses_\u001b[0m \u001b[0;34m=\u001b[0m \u001b[0mself\u001b[0m\u001b[0;34m.\u001b[0m\u001b[0mclasses_\u001b[0m\u001b[0;34m\u001b[0m\u001b[0m\n",
      "\u001b[0;32m/usr/local/lib/python3.5/site-packages/sklearn/neighbors/base.py\u001b[0m in \u001b[0;36mkneighbors\u001b[0;34m(self, X, n_neighbors, return_distance)\u001b[0m\n\u001b[1;32m    355\u001b[0m                 dist = pairwise_distances(\n\u001b[1;32m    356\u001b[0m                     \u001b[0mX\u001b[0m\u001b[0;34m,\u001b[0m \u001b[0mself\u001b[0m\u001b[0;34m.\u001b[0m\u001b[0m_fit_X\u001b[0m\u001b[0;34m,\u001b[0m \u001b[0mself\u001b[0m\u001b[0;34m.\u001b[0m\u001b[0meffective_metric_\u001b[0m\u001b[0;34m,\u001b[0m \u001b[0mn_jobs\u001b[0m\u001b[0;34m=\u001b[0m\u001b[0mn_jobs\u001b[0m\u001b[0;34m,\u001b[0m\u001b[0;34m\u001b[0m\u001b[0m\n\u001b[0;32m--> 357\u001b[0;31m                     **self.effective_metric_params_)\n\u001b[0m\u001b[1;32m    358\u001b[0m \u001b[0;34m\u001b[0m\u001b[0m\n\u001b[1;32m    359\u001b[0m             \u001b[0mneigh_ind\u001b[0m \u001b[0;34m=\u001b[0m \u001b[0margpartition\u001b[0m\u001b[0;34m(\u001b[0m\u001b[0mdist\u001b[0m\u001b[0;34m,\u001b[0m \u001b[0mn_neighbors\u001b[0m \u001b[0;34m-\u001b[0m \u001b[0;36m1\u001b[0m\u001b[0;34m,\u001b[0m \u001b[0maxis\u001b[0m\u001b[0;34m=\u001b[0m\u001b[0;36m1\u001b[0m\u001b[0;34m)\u001b[0m\u001b[0;34m\u001b[0m\u001b[0m\n",
      "\u001b[0;32m/usr/local/lib/python3.5/site-packages/sklearn/metrics/pairwise.py\u001b[0m in \u001b[0;36mpairwise_distances\u001b[0;34m(X, Y, metric, n_jobs, **kwds)\u001b[0m\n\u001b[1;32m   1233\u001b[0m         \u001b[0mfunc\u001b[0m \u001b[0;34m=\u001b[0m \u001b[0mpartial\u001b[0m\u001b[0;34m(\u001b[0m\u001b[0mdistance\u001b[0m\u001b[0;34m.\u001b[0m\u001b[0mcdist\u001b[0m\u001b[0;34m,\u001b[0m \u001b[0mmetric\u001b[0m\u001b[0;34m=\u001b[0m\u001b[0mmetric\u001b[0m\u001b[0;34m,\u001b[0m \u001b[0;34m**\u001b[0m\u001b[0mkwds\u001b[0m\u001b[0;34m)\u001b[0m\u001b[0;34m\u001b[0m\u001b[0m\n\u001b[1;32m   1234\u001b[0m \u001b[0;34m\u001b[0m\u001b[0m\n\u001b[0;32m-> 1235\u001b[0;31m     \u001b[0;32mreturn\u001b[0m \u001b[0m_parallel_pairwise\u001b[0m\u001b[0;34m(\u001b[0m\u001b[0mX\u001b[0m\u001b[0;34m,\u001b[0m \u001b[0mY\u001b[0m\u001b[0;34m,\u001b[0m \u001b[0mfunc\u001b[0m\u001b[0;34m,\u001b[0m \u001b[0mn_jobs\u001b[0m\u001b[0;34m,\u001b[0m \u001b[0;34m**\u001b[0m\u001b[0mkwds\u001b[0m\u001b[0;34m)\u001b[0m\u001b[0;34m\u001b[0m\u001b[0m\n\u001b[0m\u001b[1;32m   1236\u001b[0m \u001b[0;34m\u001b[0m\u001b[0m\n\u001b[1;32m   1237\u001b[0m \u001b[0;34m\u001b[0m\u001b[0m\n",
      "\u001b[0;32m/usr/local/lib/python3.5/site-packages/sklearn/metrics/pairwise.py\u001b[0m in \u001b[0;36m_parallel_pairwise\u001b[0;34m(X, Y, func, n_jobs, **kwds)\u001b[0m\n\u001b[1;32m   1076\u001b[0m     \u001b[0;32mif\u001b[0m \u001b[0mn_jobs\u001b[0m \u001b[0;34m==\u001b[0m \u001b[0;36m1\u001b[0m\u001b[0;34m:\u001b[0m\u001b[0;34m\u001b[0m\u001b[0m\n\u001b[1;32m   1077\u001b[0m         \u001b[0;31m# Special case to avoid picklability checks in delayed\u001b[0m\u001b[0;34m\u001b[0m\u001b[0;34m\u001b[0m\u001b[0m\n\u001b[0;32m-> 1078\u001b[0;31m         \u001b[0;32mreturn\u001b[0m \u001b[0mfunc\u001b[0m\u001b[0;34m(\u001b[0m\u001b[0mX\u001b[0m\u001b[0;34m,\u001b[0m \u001b[0mY\u001b[0m\u001b[0;34m,\u001b[0m \u001b[0;34m**\u001b[0m\u001b[0mkwds\u001b[0m\u001b[0;34m)\u001b[0m\u001b[0;34m\u001b[0m\u001b[0m\n\u001b[0m\u001b[1;32m   1079\u001b[0m \u001b[0;34m\u001b[0m\u001b[0m\n\u001b[1;32m   1080\u001b[0m     \u001b[0;31m# TODO: in some cases, backend='threading' may be appropriate\u001b[0m\u001b[0;34m\u001b[0m\u001b[0;34m\u001b[0m\u001b[0m\n",
      "\u001b[0;32m/usr/local/lib/python3.5/site-packages/sklearn/metrics/pairwise.py\u001b[0m in \u001b[0;36m_pairwise_callable\u001b[0;34m(X, Y, metric, **kwds)\u001b[0m\n\u001b[1;32m   1114\u001b[0m         \u001b[0miterator\u001b[0m \u001b[0;34m=\u001b[0m \u001b[0mitertools\u001b[0m\u001b[0;34m.\u001b[0m\u001b[0mproduct\u001b[0m\u001b[0;34m(\u001b[0m\u001b[0mrange\u001b[0m\u001b[0;34m(\u001b[0m\u001b[0mX\u001b[0m\u001b[0;34m.\u001b[0m\u001b[0mshape\u001b[0m\u001b[0;34m[\u001b[0m\u001b[0;36m0\u001b[0m\u001b[0;34m]\u001b[0m\u001b[0;34m)\u001b[0m\u001b[0;34m,\u001b[0m \u001b[0mrange\u001b[0m\u001b[0;34m(\u001b[0m\u001b[0mY\u001b[0m\u001b[0;34m.\u001b[0m\u001b[0mshape\u001b[0m\u001b[0;34m[\u001b[0m\u001b[0;36m0\u001b[0m\u001b[0;34m]\u001b[0m\u001b[0;34m)\u001b[0m\u001b[0;34m)\u001b[0m\u001b[0;34m\u001b[0m\u001b[0m\n\u001b[1;32m   1115\u001b[0m         \u001b[0;32mfor\u001b[0m \u001b[0mi\u001b[0m\u001b[0;34m,\u001b[0m \u001b[0mj\u001b[0m \u001b[0;32min\u001b[0m \u001b[0miterator\u001b[0m\u001b[0;34m:\u001b[0m\u001b[0;34m\u001b[0m\u001b[0m\n\u001b[0;32m-> 1116\u001b[0;31m             \u001b[0mout\u001b[0m\u001b[0;34m[\u001b[0m\u001b[0mi\u001b[0m\u001b[0;34m,\u001b[0m \u001b[0mj\u001b[0m\u001b[0;34m]\u001b[0m \u001b[0;34m=\u001b[0m \u001b[0mmetric\u001b[0m\u001b[0;34m(\u001b[0m\u001b[0mX\u001b[0m\u001b[0;34m[\u001b[0m\u001b[0mi\u001b[0m\u001b[0;34m]\u001b[0m\u001b[0;34m,\u001b[0m \u001b[0mY\u001b[0m\u001b[0;34m[\u001b[0m\u001b[0mj\u001b[0m\u001b[0;34m]\u001b[0m\u001b[0;34m,\u001b[0m \u001b[0;34m**\u001b[0m\u001b[0mkwds\u001b[0m\u001b[0;34m)\u001b[0m\u001b[0;34m\u001b[0m\u001b[0m\n\u001b[0m\u001b[1;32m   1117\u001b[0m \u001b[0;34m\u001b[0m\u001b[0m\n\u001b[1;32m   1118\u001b[0m     \u001b[0;32mreturn\u001b[0m \u001b[0mout\u001b[0m\u001b[0;34m\u001b[0m\u001b[0m\n",
      "\u001b[0;31mKeyboardInterrupt\u001b[0m: "
     ]
    }
   ],
   "source": [
    "#indicator 22 min\n",
    "neigh_with_indicator = sklearn.neighbors.KNeighborsClassifier(n_neighbors=10, algorithm='brute', metric=indicator)\n",
    "neigh_with_indicator.fit(X_train, y_train)\n",
    "y_with_indicator = neigh_with_indicator.predict_proba(X_test)\n",
    "\n",
    "y_with_indicator = y_with_indicator[:, 1]\n",
    "\n",
    "display_auc(y_true = y_test, y_predict = y_with_indicator)"
   ]
  },
  {
   "cell_type": "code",
   "execution_count": 64,
   "metadata": {
    "collapsed": false
   },
   "outputs": [],
   "source": [
    "def unique_with_count(input_array): # (value, count)\n",
    "    buf = copy.deepcopy(input_array)\n",
    "    buf = buf[buf == buf]\n",
    "    buf = np.sort(buf)\n",
    "    \n",
    "    Y = np.concatenate((buf[1:], np.array([np.nan])))\n",
    "    lens_seg = np.cumsum(np.ones(buf.shape[0]))\n",
    "    val = buf[buf != Y]\n",
    "    lens_seg = lens_seg[buf != Y]\n",
    "    lens_seg = np.asarray(np.concatenate((lens_seg[0:1], np.diff(lens_seg))), dtype = int)\n",
    "    return (val, lens_seg)\n",
    "\n",
    "\n",
    "p_2 = np.zeros((X_train.shape[1], max_value + 1))\n",
    "p = np.zeros((X_train.shape[1], max_value + 1))\n",
    "f = np.zeros((X_train.shape[1], max_value + 1))\n",
    "for col in range(X_train.shape[1]):\n",
    "    (unique_value, count) = unique_with_count(X_train.iloc[:, col])\n",
    "    cur_f = count\n",
    "    cur_p = (count + 0.0) / X_train.shape[0]\n",
    "    cur_p_2 = count * (count - 1.0) / X_train.shape[0] / (X_train.shape[0] - 1)\n",
    "    sum_p_2 = np.zeros(unique_value.shape[0])\n",
    "    for i in range(unique_value.shape[0]):\n",
    "        sum_p_2[i] = np.sum(cur_p_2[cur_p < cur_p[i]])\n",
    "    \n",
    "    f[col][unique_value] = cur_f\n",
    "    p[col][unique_value] = cur_p\n",
    "    p_2[col][unique_value] = sum_p_2\n",
    "    \n",
    "log_f = np.log(f + 1)\n"
   ]
  },
  {
   "cell_type": "code",
   "execution_count": 65,
   "metadata": {
    "collapsed": true
   },
   "outputs": [],
   "source": [
    "def smoothed_indicator(x, y, **kwargs):\n",
    "    buf = kwargs['p_2']\n",
    "    return np.sum((x != y) + (x == y) * buf[:, np.asarray(x, int)])\n"
   ]
  },
  {
   "cell_type": "code",
   "execution_count": 192,
   "metadata": {
    "collapsed": false
   },
   "outputs": [
    {
     "name": "stdout",
     "output_type": "stream",
     "text": [
      "AUC: 0.833989009583\n"
     ]
    },
    {
     "data": {
      "image/png": "[encoded data removed]",
      "text/plain": [
       "<matplotlib.figure.Figure at 0x1080da390>"
      ]
     },
     "metadata": {},
     "output_type": "display_data"
    }
   ],
   "source": [
    "#smoothed_indicator\n",
    "neigh_with_smoothed_indicator = sklearn.neighbors.KNeighborsClassifier(n_neighbors=10, algorithm='brute', metric=smoothed_indicator, \n",
    "                                                                       metric_params={'p_2': p_2})\n",
    "neigh_with_smoothed_indicator.fit(X_train, y_train)\n",
    "\n",
    "\n",
    "y_with_smoothed_indicator = neigh_with_smoothed_indicator.predict_proba(np.asarray(X_test, int))\n",
    "y_with_smoothed_indicator = y_with_smoothed_indicator[:, 1]\n",
    "\n",
    "display_auc(y_true = y_test, y_predict = y_with_smoothed_indicator)"
   ]
  },
  {
   "cell_type": "code",
   "execution_count": 67,
   "metadata": {
    "collapsed": true
   },
   "outputs": [],
   "source": [
    "def log_indicator(x, y, **kwargs):\n",
    "    buf = kwargs['log_f']\n",
    "    return np.sum((x != y) * buf[:, np.asarray(x, int)] * buf[:, np.asarray(y, int)])"
   ]
  },
  {
   "cell_type": "code",
   "execution_count": 194,
   "metadata": {
    "collapsed": false
   },
   "outputs": [
    {
     "name": "stdout",
     "output_type": "stream",
     "text": [
      "AUC: 0.819376603473\n"
     ]
    },
    {
     "data": {
      "image/png": "[encoded data removed]",
      "text/plain": [
       "<matplotlib.figure.Figure at 0x108122588>"
      ]
     },
     "metadata": {},
     "output_type": "display_data"
    }
   ],
   "source": [
    "#log_indicator\n",
    "neigh_with_log_indicator = sklearn.neighbors.KNeighborsClassifier(n_neighbors=10, algorithm='brute', \n",
    "                                                              metric=log_indicator,\n",
    "                                                             metric_params={'log_f': log_f})\n",
    "neigh_with_log_indicator.fit(X_train, y_train)\n",
    "y_with_log_indicator = neigh_with_log_indicator.predict_proba(np.asarray(X_test, int))\n",
    "\n",
    "y_with_log_indicator = y_with_log_indicator[:, 1]\n",
    "display_auc(y_true = y_test, y_predict = y_with_log_indicator)"
   ]
  },
  {
   "cell_type": "code",
   "execution_count": 68,
   "metadata": {
    "collapsed": false
   },
   "outputs": [],
   "source": [
    "def find_optimal_k(X_train, y_train, X_test, y_test, MAXK, metric, metric_params = None):\n",
    "    MAXK += 1\n",
    "    classifier = sklearn.neighbors.KNeighborsClassifier(n_neighbors=MAXK, \n",
    "                                                        algorithm='brute', \n",
    "                                                        metric=metric,\n",
    "                                                        metric_params=metric_params)\n",
    "    classifier.fit(X_train, y_train)\n",
    "    nearest_class = classifier.kneighbors(X_test, return_distance=0)\n",
    "    precision = np.ndarray((MAXK, X_test.shape[0], 2))\n",
    "    for ind_object in range(X_test.shape[0]):\n",
    "        histohram = np.zeros(2)\n",
    "        for k in range(0, MAXK):\n",
    "            histohram[y_train.iloc[nearest_class[ind_object][k]]] += 1\n",
    "            precision[k, ind_object] = histohram / (k + 1)\n",
    "    \n",
    "    max_auc = 0.0\n",
    "    max_k = 0;\n",
    "    for k in range(0, MAXK):\n",
    "        y_predict = precision[k, :, 1]\n",
    "        cur_auc = get_auc(y_true = y_test, y_predict = y_predict)\n",
    "        if (cur_auc > max_auc):\n",
    "            max_auc = cur_auc\n",
    "            max_k = k + 1\n",
    "        \n",
    "    return (max_auc, max_k)"
   ]
  },
  {
   "cell_type": "code",
   "execution_count": 69,
   "metadata": {
    "collapsed": false
   },
   "outputs": [
    {
     "name": "stdout",
     "output_type": "stream",
     "text": [
      "(0.82167888343285744, 9)\n"
     ]
    }
   ],
   "source": [
    "print( find_optimal_k(X_train, y_train, X_test, y_test, 15, log_indicator, metric_params={'log_f': log_f}) )"
   ]
  },
  {
   "cell_type": "code",
   "execution_count": 70,
   "metadata": {
    "collapsed": false
   },
   "outputs": [
    {
     "name": "stdout",
     "output_type": "stream",
     "text": [
      "(0.83469194987351925, 10)\n"
     ]
    }
   ],
   "source": [
    "print( find_optimal_k(X_train, y_train, X_test, y_test, 15, smoothed_indicator, metric_params={'p_2': p_2}) )"
   ]
  },
  {
   "cell_type": "code",
   "execution_count": 71,
   "metadata": {
    "collapsed": false
   },
   "outputs": [
    {
     "name": "stdout",
     "output_type": "stream",
     "text": [
      "(0.83094973406339201, 9)\n"
     ]
    }
   ],
   "source": [
    "print( find_optimal_k(X_train, y_train, X_test, y_test, 15, indicator) )"
   ]
  },
  {
   "cell_type": "code",
   "execution_count": null,
   "metadata": {
    "collapsed": true
   },
   "outputs": [],
   "source": []
  },
  {
   "cell_type": "code",
   "execution_count": 44,
   "metadata": {
    "collapsed": false
   },
   "outputs": [],
   "source": [
    "def get_count_and_successed(X_train, y_train):\n",
    "    count = [{} for i in range(X_train.shape[1])]\n",
    "    successed = [{} for i in range(X_train.shape[1])]\n",
    "    for col in range(X_train.shape[1]):\n",
    "        value, len = unique_with_count(X_train.iloc[:, col])\n",
    "        \n",
    "        count[col] = {cur_value: 0 for cur_value in value}\n",
    "        successed[col] = {cur_value: 0 for cur_value in value}\n",
    "        for ind in range(X_train.shape[0]):\n",
    "            count[col][X_train.iloc[ind, col]] += 1\n",
    "            successed[col][X_train.iloc[ind, col]] += (y_train.iloc[ind] == 1)\n",
    "        for cur_value in value:\n",
    "            count[col][cur_value] /= y_train.shape[0]\n",
    "            successed[col][cur_value] /= y_train.shape[0]\n",
    "            \n",
    "    return (count, successed)"
   ]
  },
  {
   "cell_type": "code",
   "execution_count": 45,
   "metadata": {
    "collapsed": false
   },
   "outputs": [],
   "source": [
    "count, successed = get_count_and_successed(X_train, y_train)"
   ]
  },
  {
   "cell_type": "code",
   "execution_count": 46,
   "metadata": {
    "collapsed": false
   },
   "outputs": [],
   "source": [
    "def get_new_features(X, count, successed):\n",
    "    cnt = 0\n",
    "    new_X = np.ndarray((X.shape[0], 3 * X.shape[1]))\n",
    "    for i in range(X.shape[0]):\n",
    "        for j in range(X.shape[1]):\n",
    "            new_X[i, 3 * j] = count[j].get(X.iloc[i, j], 0)\n",
    "            new_X[i, 3 * j + 1] = successed[j].get(X.iloc[i, j], 0)\n",
    "            new_X[i, 3 * j + 2] = (new_X[i, 3 * j + 1] + 1) / (new_X[i, 3 * j] + 2)\n",
    "            cnt += new_X[i, 3 * j] == 0;\n",
    "    print(cnt)\n",
    "    return new_X\n",
    "\n",
    "\n"
   ]
  },
  {
   "cell_type": "code",
   "execution_count": 48,
   "metadata": {
    "collapsed": false
   },
   "outputs": [
    {
     "name": "stdout",
     "output_type": "stream",
     "text": [
      "0\n",
      "2214\n"
     ]
    }
   ],
   "source": [
    "\n",
    "new_X_train = get_new_features(X_train, count, successed)\n",
    "new_X_test = get_new_features(X_test, count, successed)\n"
   ]
  },
  {
   "cell_type": "code",
   "execution_count": 49,
   "metadata": {
    "collapsed": false
   },
   "outputs": [
    {
     "name": "stdout",
     "output_type": "stream",
     "text": [
      "AUC: 0.788718055439\n"
     ]
    },
    {
     "data": {
      "image/png": "[encoded data removed]",
      "text/plain": [
       "<matplotlib.figure.Figure at 0x1209135f8>"
      ]
     },
     "metadata": {},
     "output_type": "display_data"
    }
   ],
   "source": [
    "#WITHOUT FOLDING\n",
    "neigh = sklearn.neighbors.KNeighborsClassifier(n_neighbors=10, \n",
    "                                               algorithm='brute', \n",
    "                                               metric='euclidean')\n",
    "\n",
    "neigh.fit(new_X_train, y_train)\n",
    "\n",
    "\n",
    "y = neigh.predict_proba(new_X_test)\n",
    "y = y[:, 1]\n",
    "\n",
    "display_auc(y_true = y_test, y_predict = y)"
   ]
  },
  {
   "cell_type": "code",
   "execution_count": 50,
   "metadata": {
    "collapsed": false
   },
   "outputs": [
    {
     "data": {
      "text/plain": [
       "(0.79678798609179213, 14)"
      ]
     },
     "execution_count": 50,
     "metadata": {},
     "output_type": "execute_result"
    }
   ],
   "source": [
    "find_optimal_k(new_X_train, y_train, new_X_test, y_test, MAXK=15, metric='euclidean') #WITHOUT FOLDING"
   ]
  },
  {
   "cell_type": "code",
   "execution_count": 51,
   "metadata": {
    "collapsed": false
   },
   "outputs": [],
   "source": [
    "def get_new_features_with_fold(X, y, CNT_FOLDS = 3):\n",
    "    new_X = np.ndarray((X.shape[0], 3 * X.shape[1]))\n",
    "    for i in range(CNT_FOLDS):\n",
    "        ind = np.ndarray(((X.shape[0] + CNT_FOLDS - 1 - i) // CNT_FOLDS), dtype=int)\n",
    "        other_ind = np.ndarray(X.shape[0] - ind.shape[0], dtype=int)\n",
    "        cnt = 0\n",
    "        cnt_other = 0\n",
    "        for j in range(X.shape[0]):\n",
    "            if (j % CNT_FOLDS == i):\n",
    "                ind[cnt] = j\n",
    "                cnt += 1\n",
    "            else:\n",
    "                other_ind[cnt_other] = j\n",
    "                cnt_other += 1\n",
    "\n",
    "        count, successed = get_count_and_successed(X.iloc[other_ind, :], y.iloc[other_ind])\n",
    "        X_chunk_new = get_new_features(X.iloc[ind, :], count, successed)\n",
    "        new_X[ind, :] = X_chunk_new\n",
    "    return new_X\n"
   ]
  },
  {
   "cell_type": "code",
   "execution_count": 52,
   "metadata": {
    "collapsed": false
   },
   "outputs": [
    {
     "name": "stdout",
     "output_type": "stream",
     "text": [
      "2383\n",
      "2421\n",
      "2411\n",
      "2214\n",
      "AUC: 0.763562263815\n"
     ]
    },
    {
     "data": {
      "image/png": "[encoded data removed]",
      "text/plain": [
       "<matplotlib.figure.Figure at 0x1101dcf28>"
      ]
     },
     "metadata": {},
     "output_type": "display_data"
    }
   ],
   "source": [
    "#WITH FOLDING\n",
    "CNT_FOLDS = 3\n",
    "new_X_train = get_new_features_with_fold(X_train, y_train, CNT_FOLDS)\n",
    "\n",
    "\n",
    "count, successed = get_count_and_successed(X_train, y_train)\n",
    "new_X_test = get_new_features(X_test, count, successed)\n",
    "\n",
    "\n",
    "neigh = sklearn.neighbors.KNeighborsClassifier(n_neighbors=10, \n",
    "                                               algorithm='brute', \n",
    "                                               metric='euclidean')\n",
    "\n",
    "neigh.fit(new_X_train, y_train)\n",
    "\n",
    "\n",
    "y = neigh.predict_proba(new_X_test)\n",
    "y = y[:, 1]\n",
    "\n",
    "display_auc(y_true = y_test, y_predict = y)"
   ]
  },
  {
   "cell_type": "code",
   "execution_count": 54,
   "metadata": {
    "collapsed": false
   },
   "outputs": [
    {
     "data": {
      "text/plain": [
       "(0.77708562015813154, 16)"
      ]
     },
     "execution_count": 54,
     "metadata": {},
     "output_type": "execute_result"
    }
   ],
   "source": [
    "find_optimal_k(new_X_train, y_train, new_X_test, y_test, MAXK=30, metric='euclidean') #WITH FOLDING"
   ]
  },
  {
   "cell_type": "code",
   "execution_count": null,
   "metadata": {
    "collapsed": false
   },
   "outputs": [],
   "source": []
  },
  {
   "cell_type": "code",
   "execution_count": 20,
   "metadata": {
    "collapsed": false
   },
   "outputs": [],
   "source": [
    "def get_pair_features(X):\n",
    "    print(\"Begin\")\n",
    "    X_new = np.ndarray((X.shape[0], X.shape[1] * (X.shape[1] + 1) // 2))\n",
    "    X_new[:, 0:X.shape[1]] = copy.deepcopy(X.iloc[:])\n",
    "    print(\"End copy\")\n",
    "    len = X.shape[1]\n",
    "    for i in range(X.shape[1]):\n",
    "        print(\"Processing\", i, \"features\")\n",
    "        for j in range(i + 1, X.shape[1]):\n",
    "            for k in range(X.shape[0]):\n",
    "                X_new[k, len] = str(X.iloc[k, i]) + \"0123321\" + str(X.iloc[k, j])\n",
    "            len += 1\n",
    "    return X_new"
   ]
  },
  {
   "cell_type": "code",
   "execution_count": 21,
   "metadata": {
    "collapsed": false
   },
   "outputs": [
    {
     "name": "stdout",
     "output_type": "stream",
     "text": [
      "Begin\n",
      "End copy\n",
      "Processing 0 features\n",
      "Processing 1 features\n",
      "Processing 2 features\n",
      "Processing 3 features\n",
      "Processing 4 features\n",
      "Processing 5 features\n",
      "Processing 6 features\n",
      "Processing 7 features\n",
      "Processing 8 features\n"
     ]
    }
   ],
   "source": [
    "X_train_with_pair_features = get_pair_features(X_train)"
   ]
  },
  {
   "cell_type": "code",
   "execution_count": 22,
   "metadata": {
    "collapsed": false
   },
   "outputs": [
    {
     "name": "stdout",
     "output_type": "stream",
     "text": [
      "Begin\n",
      "End copy\n",
      "Processing 0 features\n",
      "Processing 1 features\n",
      "Processing 2 features\n",
      "Processing 3 features\n",
      "Processing 4 features\n",
      "Processing 5 features\n",
      "Processing 6 features\n",
      "Processing 7 features\n",
      "Processing 8 features\n"
     ]
    }
   ],
   "source": [
    "X_test_with_pair_features = get_pair_features(X_test)"
   ]
  },
  {
   "cell_type": "code",
   "execution_count": 30,
   "metadata": {
    "collapsed": false
   },
   "outputs": [
    {
     "name": "stdout",
     "output_type": "stream",
     "text": [
      "0\n",
      "44734\n"
     ]
    }
   ],
   "source": [
    "def get_new_features(X, count, successed):\n",
    "    cnt = 0\n",
    "    new_X = np.ndarray((X.shape[0], 3 * X.shape[1]))\n",
    "    for i in range(X.shape[0]):\n",
    "        for j in range(X.shape[1]):\n",
    "            new_X[i, 3 * j] = count[j].get(X[i, j], 0)\n",
    "            new_X[i, 3 * j + 1] = successed[j].get(X[i, j], 0)\n",
    "            new_X[i, 3 * j + 2] = (new_X[i, 3 * j + 1] + 1) / (new_X[i, 3 * j] + 2)\n",
    "            cnt += new_X[i, 3 * j] == 0;\n",
    "    print(cnt)\n",
    "    return new_X\n",
    "\n",
    "def get_count_and_successed(X_train, y_train):\n",
    "    count = [{} for i in range(X_train.shape[1])]\n",
    "    successed = [{} for i in range(X_train.shape[1])]\n",
    "    for col in range(X_train.shape[1]):\n",
    "        value, len = unique_with_count(X_train[:, col])\n",
    "        \n",
    "        count[col] = {cur_value: 0 for cur_value in value}\n",
    "        successed[col] = {cur_value: 0 for cur_value in value}\n",
    "        for ind in range(X_train.shape[0]):\n",
    "            count[col][X_train[ind, col]] += 1\n",
    "            successed[col][X_train[ind, col]] += (y_train[ind] == 1)\n",
    "        for cur_value in value:\n",
    "            count[col][cur_value] /= y_train.shape[0]\n",
    "            successed[col][cur_value] /= y_train.shape[0]\n",
    "            successed[col][cur_value] = round(successed[col][cur_value], 1)\n",
    "            \n",
    "    return (count, successed)\n",
    "\n",
    "\n",
    "count, successed = get_count_and_successed(X_train_with_pair_features, np.array(y_train.iloc[:], dtype=int))\n",
    "new_X_train_with_pair_features = get_new_features(X_train_with_pair_features, count, successed)\n",
    "new_X_test_with_pair_features = get_new_features(X_test_with_pair_features, count, successed)"
   ]
  },
  {
   "cell_type": "code",
   "execution_count": 31,
   "metadata": {
    "collapsed": false
   },
   "outputs": [
    {
     "name": "stdout",
     "output_type": "stream",
     "text": [
      "AUC: 0.80338239808\n"
     ]
    },
    {
     "data": {
      "image/png": "[encoded data removed]",
      "text/plain": [
       "<matplotlib.figure.Figure at 0x10f9d3438>"
      ]
     },
     "metadata": {},
     "output_type": "display_data"
    }
   ],
   "source": [
    "#WITHOUT FOLDING\n",
    "neigh = sklearn.neighbors.KNeighborsClassifier(n_neighbors=10, \n",
    "                                               algorithm='brute', \n",
    "                                               metric='euclidean')\n",
    "\n",
    "neigh.fit(new_X_train_with_pair_features, y_train)\n",
    "\n",
    "\n",
    "y = neigh.predict_proba(new_X_test_with_pair_features)\n",
    "y = y[:, 1]\n",
    "\n",
    "display_auc(y_true = y_test, y_predict = y)"
   ]
  },
  {
   "cell_type": "code",
   "execution_count": 36,
   "metadata": {
    "collapsed": false
   },
   "outputs": [
    {
     "name": "stdout",
     "output_type": "stream",
     "text": [
      "42718\n",
      "42865\n",
      "43297\n",
      "44734\n",
      "AUC: 0.786467891722\n"
     ]
    },
    {
     "data": {
      "image/png": "[encoded data removed]",
      "text/plain": [
       "<matplotlib.figure.Figure at 0x11476a358>"
      ]
     },
     "metadata": {},
     "output_type": "display_data"
    }
   ],
   "source": [
    "#WITH FOLDING\n",
    "def get_new_features_with_fold(X, y, CNT_FOLDS = 3):\n",
    "    new_X = np.ndarray((X.shape[0], 3 * X.shape[1]))\n",
    "    for i in range(CNT_FOLDS):\n",
    "        ind = np.ndarray(((X.shape[0] + CNT_FOLDS - 1 - i) // CNT_FOLDS), dtype=int)\n",
    "        other_ind = np.ndarray(X.shape[0] - ind.shape[0], dtype=int)\n",
    "        cnt = 0\n",
    "        cnt_other = 0\n",
    "        for j in range(X.shape[0]):\n",
    "            if (j % CNT_FOLDS == i):\n",
    "                ind[cnt] = j\n",
    "                cnt += 1\n",
    "            else:\n",
    "                other_ind[cnt_other] = j\n",
    "                cnt_other += 1\n",
    "\n",
    "        count, successed = get_count_and_successed(X[other_ind, :], y[other_ind])\n",
    "        X_chunk_new = get_new_features(X[ind, :], count, successed)\n",
    "        new_X[ind, :] = X_chunk_new\n",
    "    return new_X\n",
    "\n",
    "CNT_FOLDS = 3\n",
    "new_X_train_with_pair_features = get_new_features_with_fold(X_train_with_pair_features, np.array(y_train, dtype=int), CNT_FOLDS)\n",
    "\n",
    "\n",
    "count, successed = get_count_and_successed(X_train_with_pair_features, np.array(y_train, dtype=int))\n",
    "new_X_test_with_pair_features = get_new_features(X_test_with_pair_features, count, successed)\n",
    "\n",
    "\n",
    "neigh = sklearn.neighbors.KNeighborsClassifier(n_neighbors=10, \n",
    "                                               algorithm='brute', \n",
    "                                               metric='euclidean')\n",
    "\n",
    "neigh.fit(new_X_train_with_pair_features, np.array(y_train, dtype=int))\n",
    "\n",
    "\n",
    "y = neigh.predict_proba(new_X_test_with_pair_features)\n",
    "y = y[:, 1]\n",
    "\n",
    "display_auc(y_true = y_test, y_predict = y)"
   ]
  },
  {
   "cell_type": "code",
   "execution_count": null,
   "metadata": {
    "collapsed": true
   },
   "outputs": [],
   "source": []
  }
 ],
 "metadata": {
  "kernelspec": {
   "display_name": "Python 3",
   "language": "python",
   "name": "python3"
  },
  "language_info": {
   "codemirror_mode": {
    "name": "ipython",
    "version": 3
   },
   "file_extension": ".py",
   "mimetype": "text/x-python",
   "name": "python",
   "nbconvert_exporter": "python",
   "pygments_lexer": "ipython3",
   "version": "3.5.2"
  }
 },
 "nbformat": 4,
 "nbformat_minor": 1
}
