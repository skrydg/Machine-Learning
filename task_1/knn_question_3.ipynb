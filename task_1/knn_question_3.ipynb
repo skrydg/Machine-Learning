{
 "cells": [
  {
   "cell_type": "code",
   "execution_count": 10,
   "metadata": {
    "collapsed": true
   },
   "outputs": [],
   "source": [
    "import pandas as pd\n",
    "import numpy as np\n",
    "import copy\n",
    "from sklearn.neighbors import KNeighborsClassifier, DistanceMetric\n",
    "import sklearn\n",
    "import matplotlib.pyplot as plt"
   ]
  },
  {
   "cell_type": "code",
   "execution_count": 11,
   "metadata": {
    "collapsed": false
   },
   "outputs": [],
   "source": [
    "data = pd.read_csv('amazon.csv')"
   ]
  },
  {
   "cell_type": "code",
   "execution_count": 12,
   "metadata": {
    "collapsed": false
   },
   "outputs": [
    {
     "name": "stdout",
     "output_type": "stream",
     "text": [
      "312153\n"
     ]
    }
   ],
   "source": [
    "max_value = 0\n",
    "for col_name in data.columns:\n",
    "    max_value = max(max_value, np.max(data[col_name]))\n",
    "print(max_value)"
   ]
  },
  {
   "cell_type": "code",
   "execution_count": 13,
   "metadata": {
    "collapsed": false
   },
   "outputs": [
    {
     "name": "stderr",
     "output_type": "stream",
     "text": [
      "/usr/local/lib/python3.5/site-packages/sklearn/cross_validation.py:44: DeprecationWarning: This module was deprecated in version 0.18 in favor of the model_selection module into which all the refactored classes and functions are moved. Also note that the interface of the new CV iterators are different from that of this module. This module will be removed in 0.20.\n",
      "  \"This module will be removed in 0.20.\", DeprecationWarning)\n"
     ]
    }
   ],
   "source": [
    "from sklearn.cross_validation import train_test_split\n",
    "X_train, X_test, y_train, y_test = train_test_split(data.iloc[:, 1:], data.iloc[:, 0],\n",
    "                                                    test_size=0.3, random_state=241)"
   ]
  },
  {
   "cell_type": "code",
   "execution_count": 14,
   "metadata": {
    "collapsed": false
   },
   "outputs": [
    {
     "name": "stdout",
     "output_type": "stream",
     "text": [
      "312153\n"
     ]
    }
   ],
   "source": [
    "# число значений у признаков\n",
    "max_value = 0\n",
    "for col_name in data.columns:\n",
    "    max_value = max(max_value, np.max(data[col_name]))\n",
    "print(max_value)"
   ]
  },
  {
   "cell_type": "code",
   "execution_count": 15,
   "metadata": {
    "collapsed": true
   },
   "outputs": [],
   "source": [
    "def display_auc(y_true, y_predict):\n",
    "    print(\"AUC:\", sklearn.metrics.roc_auc_score(y_score=y_predict, y_true=y_true))\n",
    "    (fpr, tpr, thresholds) = sklearn.metrics.roc_curve(y_true=y_true, y_score=y_predict)\n",
    "    plt.plot(fpr, tpr)\n",
    "    plt.show()\n",
    "\n",
    "def get_auc(y_true, y_predict):\n",
    "    return sklearn.metrics.roc_auc_score(y_score=y_predict, y_true=y_true)"
   ]
  },
  {
   "cell_type": "code",
   "execution_count": 16,
   "metadata": {
    "collapsed": false
   },
   "outputs": [],
   "source": [
    "def unique_with_count(input_array): # (value, count)\n",
    "    buf = copy.deepcopy(input_array)\n",
    "    buf = buf[buf == buf]\n",
    "    buf = np.sort(buf)\n",
    "    \n",
    "    Y = np.concatenate((buf[1:], np.array([np.nan])))\n",
    "    lens_seg = np.cumsum(np.ones(buf.shape[0]))\n",
    "    val = buf[buf != Y]\n",
    "    lens_seg = lens_seg[buf != Y]\n",
    "    lens_seg = np.asarray(np.concatenate((lens_seg[0:1], np.diff(lens_seg))), dtype = int)\n",
    "    return (val, lens_seg)\n",
    "\n",
    "\n",
    "p_2 = np.zeros((X_train.shape[1], max_value + 1))\n",
    "p = np.zeros((X_train.shape[1], max_value + 1))\n",
    "f = np.zeros((X_train.shape[1], max_value + 1))\n",
    "for col in range(X_train.shape[1]):\n",
    "    (unique_value, count) = unique_with_count(X_train.iloc[:, col])\n",
    "    cur_f = count\n",
    "    cur_p = (count + 0.0) / X_train.shape[0]\n",
    "    cur_p_2 = count * (count - 1.0) / X_train.shape[0] / (X_train.shape[0] - 1)\n",
    "    sum_p_2 = np.zeros(unique_value.shape[0])\n",
    "    for i in range(unique_value.shape[0]):\n",
    "        sum_p_2[i] = np.sum(cur_p_2[cur_p < cur_p[i]])\n",
    "    \n",
    "    f[col][unique_value] = cur_f\n",
    "    p[col][unique_value] = cur_p\n",
    "    p_2[col][unique_value] = sum_p_2\n",
    "    \n",
    "log_f = np.log(f + 1)\n"
   ]
  },
  {
   "cell_type": "code",
   "execution_count": 17,
   "metadata": {
    "collapsed": true
   },
   "outputs": [],
   "source": [
    "def find_optimal_k(X_train, y_train, X_test, y_test, MAXK, metric, metric_params = None):\n",
    "    MAXK += 1\n",
    "    classifier = sklearn.neighbors.KNeighborsClassifier(n_neighbors=MAXK, \n",
    "                                                        algorithm='brute', \n",
    "                                                        metric=metric,\n",
    "                                                        metric_params=metric_params)\n",
    "    classifier.fit(X_train, y_train)\n",
    "    nearest_class = classifier.kneighbors(X_test, return_distance=0)\n",
    "    precision = np.ndarray((MAXK, X_test.shape[0], 2))\n",
    "    for ind_object in range(X_test.shape[0]):\n",
    "        histohram = np.zeros(2)\n",
    "        for k in range(0, MAXK):\n",
    "            histohram[y_train.iloc[nearest_class[ind_object][k]]] += 1\n",
    "            precision[k, ind_object] = histohram / (k + 1)\n",
    "    \n",
    "    max_auc = 0.0\n",
    "    max_k = 0;\n",
    "    for k in range(0, MAXK):\n",
    "        y_predict = precision[k, :, 1]\n",
    "        cur_auc = get_auc(y_true = y_test, y_predict = y_predict)\n",
    "        if (cur_auc > max_auc):\n",
    "            max_auc = cur_auc\n",
    "            max_k = k + 1\n",
    "        \n",
    "    return (max_auc, max_k)"
   ]
  },
  {
   "cell_type": "code",
   "execution_count": 18,
   "metadata": {
    "collapsed": true
   },
   "outputs": [],
   "source": [
    "def get_count_and_successed(X_train, y_train):\n",
    "    count = [{} for i in range(X_train.shape[1])]\n",
    "    successed = [{} for i in range(X_train.shape[1])]\n",
    "    for col in range(X_train.shape[1]):\n",
    "        value, len = unique_with_count(X_train.iloc[:, col])\n",
    "        \n",
    "        count[col] = {cur_value: 0 for cur_value in value}\n",
    "        successed[col] = {cur_value: 0 for cur_value in value}\n",
    "        for ind in range(X_train.shape[0]):\n",
    "            count[col][X_train.iloc[ind, col]] += 1\n",
    "            successed[col][X_train.iloc[ind, col]] += (y_train.iloc[ind] == 1)\n",
    "        for cur_value in value:\n",
    "            count[col][cur_value] /= y_train.shape[0]\n",
    "            successed[col][cur_value] /= y_train.shape[0]\n",
    "            \n",
    "    return (count, successed)"
   ]
  },
  {
   "cell_type": "code",
   "execution_count": 19,
   "metadata": {
    "collapsed": true
   },
   "outputs": [],
   "source": [
    "def get_new_features(X, count, successed):\n",
    "    cnt = 0\n",
    "    new_X = np.ndarray((X.shape[0], 3 * X.shape[1]))\n",
    "    for i in range(X.shape[0]):\n",
    "        for j in range(X.shape[1]):\n",
    "            new_X[i, 3 * j] = count[j].get(X.iloc[i, j], 0)\n",
    "            new_X[i, 3 * j + 1] = successed[j].get(X.iloc[i, j], 0)\n",
    "            new_X[i, 3 * j + 2] = (new_X[i, 3 * j + 1] + 1) / (new_X[i, 3 * j] + 2)\n",
    "            cnt += new_X[i, 3 * j] == 0;\n",
    "    print(cnt)\n",
    "    return new_X\n",
    "\n"
   ]
  },
  {
   "cell_type": "code",
   "execution_count": 20,
   "metadata": {
    "collapsed": true
   },
   "outputs": [],
   "source": [
    "def get_new_features_with_fold(X, y, CNT_FOLDS = 3):\n",
    "    new_X = np.ndarray((X.shape[0], 3 * X.shape[1]))\n",
    "    for i in range(CNT_FOLDS):\n",
    "        ind = np.ndarray(((X.shape[0] + CNT_FOLDS - 1 - i) // CNT_FOLDS), dtype=int)\n",
    "        other_ind = np.ndarray(X.shape[0] - ind.shape[0], dtype=int)\n",
    "        cnt = 0\n",
    "        cnt_other = 0\n",
    "        for j in range(X.shape[0]):\n",
    "            if (j % CNT_FOLDS == i):\n",
    "                ind[cnt] = j\n",
    "                cnt += 1\n",
    "            else:\n",
    "                other_ind[cnt_other] = j\n",
    "                cnt_other += 1\n",
    "\n",
    "        count, successed = get_count_and_successed(X.iloc[other_ind, :], y.iloc[other_ind])\n",
    "        X_chunk_new = get_new_features(X.iloc[ind, :], count, successed)\n",
    "        new_X[ind, :] = X_chunk_new\n",
    "    return new_X\n"
   ]
  },
  {
   "cell_type": "code",
   "execution_count": 22,
   "metadata": {
    "collapsed": true
   },
   "outputs": [],
   "source": [
    "count, successed = get_count_and_successed(X_train, y_train)"
   ]
  },
  {
   "cell_type": "code",
   "execution_count": 23,
   "metadata": {
    "collapsed": false
   },
   "outputs": [
    {
     "name": "stdout",
     "output_type": "stream",
     "text": [
      "0\n",
      "2214\n"
     ]
    }
   ],
   "source": [
    "new_X_train = get_new_features(X_train, count, successed)\n",
    "new_X_test = get_new_features(X_test, count, successed)"
   ]
  },
  {
   "cell_type": "code",
   "execution_count": 24,
   "metadata": {
    "collapsed": false
   },
   "outputs": [
    {
     "name": "stdout",
     "output_type": "stream",
     "text": [
      "AUC: 0.788718055439\n"
     ]
    },
    {
     "data": {
      "image/png": "[encoded data removed]",
      "text/plain": [
       "<matplotlib.figure.Figure at 0x108b787b8>"
      ]
     },
     "metadata": {},
     "output_type": "display_data"
    }
   ],
   "source": [
    "#WITHOUT FOLDING\n",
    "neigh = sklearn.neighbors.KNeighborsClassifier(n_neighbors=10, \n",
    "                                               algorithm='brute', \n",
    "                                               metric='euclidean')\n",
    "\n",
    "neigh.fit(new_X_train, y_train)\n",
    "\n",
    "\n",
    "y = neigh.predict_proba(new_X_test)\n",
    "y = y[:, 1]\n",
    "\n",
    "display_auc(y_true = y_test, y_predict = y)"
   ]
  },
  {
   "cell_type": "code",
   "execution_count": 25,
   "metadata": {
    "collapsed": false
   },
   "outputs": [
    {
     "data": {
      "text/plain": [
       "(0.79678798609179213, 14)"
      ]
     },
     "execution_count": 25,
     "metadata": {},
     "output_type": "execute_result"
    }
   ],
   "source": [
    "find_optimal_k(new_X_train, y_train, new_X_test, y_test, MAXK=15, metric='euclidean') #WITHOUT FOLDING"
   ]
  },
  {
   "cell_type": "code",
   "execution_count": 26,
   "metadata": {
    "collapsed": false
   },
   "outputs": [
    {
     "name": "stdout",
     "output_type": "stream",
     "text": [
      "2383\n",
      "2421\n",
      "2411\n",
      "2214\n",
      "AUC: 0.763562263815\n"
     ]
    },
    {
     "data": {
      "image/png": "[encoded data removed]",
      "text/plain": [
       "<matplotlib.figure.Figure at 0x108b69240>"
      ]
     },
     "metadata": {},
     "output_type": "display_data"
    }
   ],
   "source": [
    "#WITH FOLDING\n",
    "CNT_FOLDS = 3\n",
    "new_X_train = get_new_features_with_fold(X_train, y_train, CNT_FOLDS)\n",
    "\n",
    "\n",
    "count, successed = get_count_and_successed(X_train, y_train)\n",
    "new_X_test = get_new_features(X_test, count, successed)\n",
    "\n",
    "\n",
    "neigh = sklearn.neighbors.KNeighborsClassifier(n_neighbors=10, \n",
    "                                               algorithm='brute', \n",
    "                                               metric='euclidean')\n",
    "\n",
    "neigh.fit(new_X_train, y_train)\n",
    "\n",
    "\n",
    "y = neigh.predict_proba(new_X_test)\n",
    "y = y[:, 1]\n",
    "\n",
    "display_auc(y_true = y_test, y_predict = y)"
   ]
  },
  {
   "cell_type": "code",
   "execution_count": 27,
   "metadata": {
    "collapsed": false
   },
   "outputs": [
    {
     "data": {
      "text/plain": [
       "(0.77708562015813154, 16)"
      ]
     },
     "execution_count": 27,
     "metadata": {},
     "output_type": "execute_result"
    }
   ],
   "source": [
    "find_optimal_k(new_X_train, y_train, new_X_test, y_test, MAXK=30, metric='euclidean') #WITH FOLDING"
   ]
  },
  {
   "cell_type": "code",
   "execution_count": null,
   "metadata": {
    "collapsed": true
   },
   "outputs": [],
   "source": []
  }
 ],
 "metadata": {
  "anaconda-cloud": {},
  "kernelspec": {
   "display_name": "Python [default]",
   "language": "python",
   "name": "python3"
  },
  "language_info": {
   "codemirror_mode": {
    "name": "ipython",
    "version": 3
   },
   "file_extension": ".py",
   "mimetype": "text/x-python",
   "name": "python",
   "nbconvert_exporter": "python",
   "pygments_lexer": "ipython3",
   "version": "3.5.2"
  }
 },
 "nbformat": 4,
 "nbformat_minor": 1
}
